{
 "cells": [
  {
   "cell_type": "code",
   "execution_count": 5,
   "metadata": {},
   "outputs": [],
   "source": [
    "import cv2\n",
    "import sys,os\n",
    "import numpy as np\n",
    "# import rosbag\n",
    "# import rospy\n",
    "# from sensor_msgs.msg import Image\n",
    "# from cv_bridge import CvBridge\n",
    "# from pyquaternion import Quaternion\n",
    "from numpy.linalg import inv, norm\n",
    "from scipy.spatial.transform import Rotation as R, Slerp\n",
    "from shutil import copyfile\n",
    "import sqlite3\n",
    "\n"
   ]
  },
  {
   "cell_type": "code",
   "execution_count": 6,
   "metadata": {},
   "outputs": [
    {
     "name": "stderr",
     "output_type": "stream",
     "text": [
      "/home/pang/.local/lib/python3.6/site-packages/ipykernel_launcher.py:15: DeprecationWarning: The binary mode of fromstring is deprecated, as it behaves surprisingly on unicode inputs. Use frombuffer instead\n",
      "  from ipykernel import kernelapp as app\n"
     ]
    }
   ],
   "source": [
    "## modify colmap database \n",
    "database_file = \"/media/pang/Elements1/dataset/south-building/hfnet_model/d.db\"\n",
    "IS_PYTHON3= True\n",
    "\n",
    "\n",
    "def array_to_blob(array):\n",
    "    if IS_PYTHON3:\n",
    "        return array.tostring()\n",
    "    else:\n",
    "        return np.getbuffer(array)\n",
    "\n",
    "\n",
    "def blob_to_array(blob, dtype, shape=(-1,)):\n",
    "    if IS_PYTHON3:\n",
    "        return np.fromstring(blob, dtype=dtype).reshape(*shape)\n",
    "    else:\n",
    "        return np.frombuffer(blob, dtype=dtype).reshape(*shape)\n",
    "\n",
    "# south building 2559.68 1536 1152 -0.0204997\n",
    "s1= {\n",
    "    'front': {    \n",
    "        'f': 2559.68,\n",
    "        'cx': 1536,\n",
    "        'cy': 1152,\n",
    "        'k' : -0.0204997\n",
    "    } \n",
    "}\n",
    "\n",
    "def parse_args():\n",
    "    parser = argparse.ArgumentParser()\n",
    "    parser.add_argument('--database_file', required=True)\n",
    "    args = parser.parse_args()\n",
    "    return args\n",
    "\n",
    "\n",
    "def update_db_intrinsics(db_connection, camera_id, f, cx, cy,k ):\n",
    "    cursor = db_connection.cursor()\n",
    "    cursor.execute('SELECT params FROM cameras WHERE camera_id=?;',\n",
    "                   (camera_id,))\n",
    "    data = cursor.fetchall()\n",
    "    assert len(data) == 1\n",
    "    intrinsics = blob_to_array(data[0][0], np.double)\n",
    "\n",
    "    # Update intrinsic values.\n",
    "    intrinsics = np.array([f,cx,cy,k])\n",
    "\n",
    "\n",
    "    cursor.execute('UPDATE cameras SET params = ?, model=? WHERE camera_id = ?;',\n",
    "                   [array_to_blob(intrinsics),2, camera_id])\n",
    "\n",
    "    cursor.close()\n",
    "\n",
    "\n",
    "\n",
    "connection = sqlite3.connect(database_file)\n",
    "cursor = connection.cursor()\n",
    "\n",
    "# Get a mapping between image ids and image names and camera ids.\n",
    "cursor.execute('SELECT image_id, camera_id, name FROM images;')\n",
    "for image_id, camera_id, name in cursor:\n",
    "    update_db_intrinsics(connection,1,**s1['front'])\n",
    "    \n",
    "\n",
    "\n",
    "cursor.execute('SELECT image_id, camera_id, name FROM images;')\n",
    "for image_id, camera_id, name in cursor:\n",
    "   \n",
    "    cursor = connection.cursor()\n",
    "    cursor.execute('UPDATE images SET camera_id = ? WHERE image_id = ?;',[1, image_id])\n",
    "    cursor.close() \n",
    "\n",
    "\n",
    "cursor = connection.cursor()\n",
    "cursor.execute('DELETE FROM cameras WHERE camera_id >= ?;',[2])\n",
    "cursor.close()\n",
    "cursor.close()\n",
    "connection.commit()\n",
    "connection.close()"
   ]
  },
  {
   "cell_type": "code",
   "execution_count": null,
   "metadata": {},
   "outputs": [],
   "source": []
  }
 ],
 "metadata": {
  "kernelspec": {
   "display_name": "hf_venv",
   "language": "python",
   "name": "hf_venv"
  },
  "language_info": {
   "codemirror_mode": {
    "name": "ipython",
    "version": 3
   },
   "file_extension": ".py",
   "mimetype": "text/x-python",
   "name": "python",
   "nbconvert_exporter": "python",
   "pygments_lexer": "ipython3",
   "version": "3.6.9"
  }
 },
 "nbformat": 4,
 "nbformat_minor": 2
}
