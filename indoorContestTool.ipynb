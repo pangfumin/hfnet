{
 "cells": [
  {
   "cell_type": "code",
   "execution_count": 4,
   "metadata": {},
   "outputs": [],
   "source": [
    "import cv2\n",
    "import sys,os\n",
    "import numpy as np\n",
    "# import rosbag\n",
    "# import rospy\n",
    "# from sensor_msgs.msg import Image\n",
    "# from cv_bridge import CvBridge\n",
    "# from pyquaternion import Quaternion\n",
    "from numpy.linalg import inv, norm\n",
    "from scipy.spatial.transform import Rotation as R, Slerp\n",
    "from shutil import copyfile\n",
    "import sqlite3\n",
    "\n"
   ]
  },
  {
   "cell_type": "code",
   "execution_count": 6,
   "metadata": {},
   "outputs": [],
   "source": [
    "#1. transfrom vi map pose to camera frame and save as colmap format\n",
    "#2. copy corresponding images to colmap directory\n",
    "baseDir = \"/home/pang/colmap_ws/office/office-1-5\"\n",
    "tmp = np.loadtxt(baseDir+\"/vertices.csv\", dtype=np.str, delimiter=\",\")\n",
    "tmp = tmp[1:]\n",
    "viMap=[]\n",
    "imgDir = baseDir+\"/fisheye1/\"\n",
    "imgTime = np.loadtxt(baseDir+\"/fisheye_timestamps.txt\",usecols=(2,))*1000#ms outputDir\n",
    "\n",
    "sfmImagesTxt = open(baseDir + \"/images.txt\",'w')\n",
    "outputDir = baseDir +\"/sfm1\"\n",
    "imgList = os.listdir(imgDir)\n",
    "imgList.sort()\n",
    "if not os.path.isdir(outputDir):\n",
    "    os.makedirs(outputDir)\n",
    "else:\n",
    "    filelist = os.listdir(outputDir)\n",
    "    for img in filelist:\n",
    "        os.remove(\"{}/{}\".format(outputDir,img))   \n",
    "        \n",
    "selectedIdx=[]\n",
    "selectedPose=[]\n",
    "for frame in tmp:\n",
    "    viMap.append([float(a) for a in frame])\n",
    "for v in viMap:\n",
    "    idx = np.argmin(np.abs(v[1] - imgTime))\n",
    "    if np.abs(imgTime[idx] - v[1]) < 50000000:\n",
    "        selectedIdx.append(idx)\n",
    "        selectedPose.append(v)\n",
    "\n",
    "for i in range(len(selectedPose)):\n",
    "    p = selectedPose[i]\n",
    "    T_W_C = np.eye(4)\n",
    "    T_W_C[:3,3] = np.array([p[2],p[3],p[4]])\n",
    "    T_W_C[:3,:3] = (R.from_quat([p[5],p[6],p[7],p[8]])).as_dcm()\n",
    "    \n",
    "    \n",
    "    T_C_W = np.linalg.inv(T_W_C)\n",
    "    quat = (R.from_dcm(T_C_W[:3,:3])).as_quat()\n",
    "    t = T_C_W[:3,3]\n",
    "    sfmImagesTxt.write(\"{} {:.6f} {:.6f} {:.6f} {:.6f} {:.6f} {:.6f} {:.6f} {} {:0>5}.png \\n\\n\".\n",
    "                       format(i+1, quat[3],quat[0],quat[1],quat[2],t[0], t[1],t[2],1,i+1))\n",
    "    copyfile(imgDir+\"/\"+str(imgList[selectedIdx[i]]), outputDir+\"/\"+ \"{:0>5}.png\".format(i+1))\n",
    "sfmImagesTxt.close()\n",
    "\n"
   ]
  },
  {
   "cell_type": "code",
   "execution_count": null,
   "metadata": {},
   "outputs": [],
   "source": []
  }
 ],
 "metadata": {
  "kernelspec": {
   "display_name": "hf_venv",
   "language": "python",
   "name": "hf_venv"
  },
  "language_info": {
   "codemirror_mode": {
    "name": "ipython",
    "version": 3
   },
   "file_extension": ".py",
   "mimetype": "text/x-python",
   "name": "python",
   "nbconvert_exporter": "python",
   "pygments_lexer": "ipython3",
   "version": "3.6.9"
  }
 },
 "nbformat": 4,
 "nbformat_minor": 2
}
