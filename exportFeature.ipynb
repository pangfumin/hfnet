{
 "cells": [
  {
   "cell_type": "code",
   "execution_count": 1,
   "metadata": {},
   "outputs": [
    {
     "name": "stderr",
     "output_type": "stream",
     "text": [
      "/home/pang/software/hfnet_venv/venv_cpu/lib/python3.6/site-packages/tensorflow/python/framework/dtypes.py:516: FutureWarning: Passing (type, 1) or '1type' as a synonym of type is deprecated; in a future version of numpy, it will be understood as (type, (1,)) / '(1,)type'.\n",
      "  _np_qint8 = np.dtype([(\"qint8\", np.int8, 1)])\n",
      "/home/pang/software/hfnet_venv/venv_cpu/lib/python3.6/site-packages/tensorflow/python/framework/dtypes.py:517: FutureWarning: Passing (type, 1) or '1type' as a synonym of type is deprecated; in a future version of numpy, it will be understood as (type, (1,)) / '(1,)type'.\n",
      "  _np_quint8 = np.dtype([(\"quint8\", np.uint8, 1)])\n",
      "/home/pang/software/hfnet_venv/venv_cpu/lib/python3.6/site-packages/tensorflow/python/framework/dtypes.py:518: FutureWarning: Passing (type, 1) or '1type' as a synonym of type is deprecated; in a future version of numpy, it will be understood as (type, (1,)) / '(1,)type'.\n",
      "  _np_qint16 = np.dtype([(\"qint16\", np.int16, 1)])\n",
      "/home/pang/software/hfnet_venv/venv_cpu/lib/python3.6/site-packages/tensorflow/python/framework/dtypes.py:519: FutureWarning: Passing (type, 1) or '1type' as a synonym of type is deprecated; in a future version of numpy, it will be understood as (type, (1,)) / '(1,)type'.\n",
      "  _np_quint16 = np.dtype([(\"quint16\", np.uint16, 1)])\n",
      "/home/pang/software/hfnet_venv/venv_cpu/lib/python3.6/site-packages/tensorflow/python/framework/dtypes.py:520: FutureWarning: Passing (type, 1) or '1type' as a synonym of type is deprecated; in a future version of numpy, it will be understood as (type, (1,)) / '(1,)type'.\n",
      "  _np_qint32 = np.dtype([(\"qint32\", np.int32, 1)])\n",
      "/home/pang/software/hfnet_venv/venv_cpu/lib/python3.6/site-packages/tensorflow/python/framework/dtypes.py:525: FutureWarning: Passing (type, 1) or '1type' as a synonym of type is deprecated; in a future version of numpy, it will be understood as (type, (1,)) / '(1,)type'.\n",
      "  np_resource = np.dtype([(\"resource\", np.ubyte, 1)])\n",
      "/home/pang/software/hfnet_venv/venv_cpu/lib/python3.6/site-packages/tensorboard/compat/tensorflow_stub/dtypes.py:541: FutureWarning: Passing (type, 1) or '1type' as a synonym of type is deprecated; in a future version of numpy, it will be understood as (type, (1,)) / '(1,)type'.\n",
      "  _np_qint8 = np.dtype([(\"qint8\", np.int8, 1)])\n",
      "/home/pang/software/hfnet_venv/venv_cpu/lib/python3.6/site-packages/tensorboard/compat/tensorflow_stub/dtypes.py:542: FutureWarning: Passing (type, 1) or '1type' as a synonym of type is deprecated; in a future version of numpy, it will be understood as (type, (1,)) / '(1,)type'.\n",
      "  _np_quint8 = np.dtype([(\"quint8\", np.uint8, 1)])\n",
      "/home/pang/software/hfnet_venv/venv_cpu/lib/python3.6/site-packages/tensorboard/compat/tensorflow_stub/dtypes.py:543: FutureWarning: Passing (type, 1) or '1type' as a synonym of type is deprecated; in a future version of numpy, it will be understood as (type, (1,)) / '(1,)type'.\n",
      "  _np_qint16 = np.dtype([(\"qint16\", np.int16, 1)])\n",
      "/home/pang/software/hfnet_venv/venv_cpu/lib/python3.6/site-packages/tensorboard/compat/tensorflow_stub/dtypes.py:544: FutureWarning: Passing (type, 1) or '1type' as a synonym of type is deprecated; in a future version of numpy, it will be understood as (type, (1,)) / '(1,)type'.\n",
      "  _np_quint16 = np.dtype([(\"quint16\", np.uint16, 1)])\n",
      "/home/pang/software/hfnet_venv/venv_cpu/lib/python3.6/site-packages/tensorboard/compat/tensorflow_stub/dtypes.py:545: FutureWarning: Passing (type, 1) or '1type' as a synonym of type is deprecated; in a future version of numpy, it will be understood as (type, (1,)) / '(1,)type'.\n",
      "  _np_qint32 = np.dtype([(\"qint32\", np.int32, 1)])\n",
      "/home/pang/software/hfnet_venv/venv_cpu/lib/python3.6/site-packages/tensorboard/compat/tensorflow_stub/dtypes.py:550: FutureWarning: Passing (type, 1) or '1type' as a synonym of type is deprecated; in a future version of numpy, it will be understood as (type, (1,)) / '(1,)type'.\n",
      "  np_resource = np.dtype([(\"resource\", np.ubyte, 1)])\n",
      "[12/03/2019 14:32:59 WARNING] \n",
      "The TensorFlow contrib module will not be included in TensorFlow 2.0.\n",
      "For more information, please see:\n",
      "  * https://github.com/tensorflow/community/blob/master/rfcs/20180907-contrib-sunset.md\n",
      "  * https://github.com/tensorflow/addons\n",
      "  * https://github.com/tensorflow/io (for I/O related ops)\n",
      "If you depend on functionality not listed there, please file an issue.\n",
      "\n",
      "[12/03/2019 14:32:59 WARNING] From <ipython-input-1-a1dd12c19389>:38: load (from tensorflow.python.saved_model.loader_impl) is deprecated and will be removed in a future version.\n",
      "Instructions for updating:\n",
      "This function will only be available through the v1 compatibility library as tf.compat.v1.saved_model.loader.load or tf.compat.v1.saved_model.load. There will be a new function for importing SavedModels in Tensorflow 2.0.\n",
      "[12/03/2019 14:32:59 WARNING] From /home/pang/software/hfnet_venv/venv_cpu/lib/python3.6/site-packages/tensorflow/python/training/saver.py:1276: checkpoint_exists (from tensorflow.python.training.checkpoint_management) is deprecated and will be removed in a future version.\n",
      "Instructions for updating:\n",
      "Use standard file APIs to check for files with this prefix.\n",
      "[12/03/2019 14:32:59 INFO] Restoring parameters from /home/pang/software/hfnet_venv/hfnet_exp/saved_models/hfnet/variables/variables\n"
     ]
    }
   ],
   "source": [
    "import sys\n",
    "\n",
    "import time\n",
    "import numpy as np\n",
    "import sys,os\n",
    "import cv2\n",
    "from pathlib import Path\n",
    "import matplotlib.pyplot as plt\n",
    "from hfnet.settings import EXPER_PATH\n",
    "from notebooks.utils import plot_images, plot_matches, add_frame\n",
    "\n",
    "import tensorflow as tf\n",
    "from tensorflow.python.saved_model import tag_constants\n",
    "import logging\n",
    "from tqdm import tqdm\n",
    "import numpy as np\n",
    "from scipy.spatial.transform import Rotation as R, Slerp \n",
    "from numpy.linalg import inv, norm\n",
    "logging.basicConfig(format='[%(asctime)s %(levelname)s] %(message)s',\n",
    "                    datefmt='%m/%d/%Y %H:%M:%S',\n",
    "                    level=logging.INFO)\n",
    "from hfnet.datasets import get_dataset  # noqa: E402\n",
    "from hfnet.evaluation.loaders import export_loader  # noqa: E402\n",
    "from hfnet.settings import EXPER_PATH  # noqa: E402\n",
    "from scipy import spatial\n",
    "\n",
    "\n",
    "tf.contrib.resampler  # import C++ op\n",
    "class HFNet:\n",
    "    def __init__(self, model_path, outputs):\n",
    "        self.session = tf.Session()\n",
    "        self.image_ph = tf.placeholder(tf.float32, shape=(None, None, 3))\n",
    "\n",
    "        net_input = tf.image.rgb_to_grayscale(self.image_ph[None])\n",
    "        tf.saved_model.loader.load(\n",
    "            self.session, [tag_constants.SERVING], str(model_path),\n",
    "            clear_devices=True,\n",
    "            input_map={'image:0': net_input})\n",
    "\n",
    "        graph = tf.get_default_graph()\n",
    "        self.outputs = {n: graph.get_tensor_by_name(n+':0')[0] for n in outputs}\n",
    "        self.nms_radius_op = graph.get_tensor_by_name('pred/simple_nms/radius:0')\n",
    "        self.num_keypoints_op = graph.get_tensor_by_name('pred/top_k_keypoints/k:0')\n",
    "    def inference(self, image, nms_radius=4, num_keypoints=1000):\n",
    "        inputs = {\n",
    "            self.image_ph: image[..., ::-1].astype(np.float),\n",
    "            self.nms_radius_op: nms_radius,\n",
    "            self.num_keypoints_op: num_keypoints,\n",
    "        }\n",
    "        return self.session.run(self.outputs, feed_dict=inputs)\n",
    "\n",
    "model_path = Path(EXPER_PATH, 'saved_models/hfnet')\n",
    "outputs = ['global_descriptor', 'keypoints', 'local_descriptors','scores']\n",
    "hfnet = HFNet(model_path, outputs)"
   ]
  },
  {
   "cell_type": "code",
   "execution_count": 4,
   "metadata": {},
   "outputs": [
    {
     "name": "stdout",
     "output_type": "stream",
     "text": [
      "The autoreload extension is already loaded. To reload it, use:\n",
      "  %reload_ext autoreload\n"
     ]
    }
   ],
   "source": [
    "%load_ext autoreload\n",
    "%autoreload 2\n",
    "db_path =  \"/media/pang/Elements1/dataset/south-building/images/\"\n",
    "query_path =\"/home/pang/data/dataset/iros2019slam/office/office-1-1/fisheye1/\" \n",
    "\n",
    "db_list = os.listdir(db_path)\n",
    "query_list = os.listdir(query_path)\n",
    "query_list.sort()\n",
    "db_list.sort()\n",
    "\n",
    "db_image = lambda n: cv2.imread(db_path + n)[:, :, ::-1]\n",
    "query_image = lambda n: cv2.imread(query_path + n)[:, :, ::-1]\n",
    "images_db = [db_image(frame) for frame in db_list]\n",
    "images_query = [query_image(frame) for frame in query_list]\n",
    "\n",
    "# db = [hfnet.inference(i) for i in images_db]\n",
    "# global_index = np.stack([d['global_descriptor'] for d in db])"
   ]
  },
  {
   "cell_type": "code",
   "execution_count": 5,
   "metadata": {},
   "outputs": [],
   "source": [
    "## export feature for SfM\n",
    "export_path = '/media/pang/Elements1/dataset/south-building/hf_feature/'\n",
    "if not os.path.isdir(export_path):\n",
    "    os.mkdir(export_path)\n",
    "\n",
    "\n",
    "for i in range(len(images_db)):\n",
    "    data = hfnet.inference(images_db[i])\n",
    "    export = {\n",
    "        'keypoints': data['keypoints'],\n",
    "        'local_descriptors': data['local_descriptors'],\n",
    "        'global_descriptor':data['global_descriptor'],\n",
    "        'scores':data['scores']\n",
    "    }\n",
    "    name = export_path + db_list[i][:-4]\n",
    "    np.savez(f'{name}.npz', **export)"
   ]
  },
  {
   "cell_type": "code",
   "execution_count": null,
   "metadata": {},
   "outputs": [],
   "source": []
  }
 ],
 "metadata": {
  "kernelspec": {
   "display_name": "Python 3",
   "language": "python",
   "name": "python3"
  },
  "language_info": {
   "codemirror_mode": {
    "name": "ipython",
    "version": 3
   },
   "file_extension": ".py",
   "mimetype": "text/x-python",
   "name": "python",
   "nbconvert_exporter": "python",
   "pygments_lexer": "ipython3",
   "version": "3.6.8"
  }
 },
 "nbformat": 4,
 "nbformat_minor": 2
}
